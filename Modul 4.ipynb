{
 "cells": [
  {
   "cell_type": "code",
   "execution_count": 1,
   "metadata": {},
   "outputs": [
    {
     "name": "stdout",
     "output_type": "stream",
     "text": [
      "Hasil 5 + 6 + 11\n",
      "Hasil 5 - 6 = -1\n"
     ]
    }
   ],
   "source": [
    "a = 5\n",
    "b = 6\n",
    "\n",
    "#menggunakan operator penjumlahan\n",
    "c = a + b\n",
    "print (\"Hasil\", a, \"+\" ,b , \"+\", c)\n",
    "\n",
    "#operator pengurangan\n",
    "d = a - b\n",
    "print (\"Hasil\", a, \"-\", b, \"=\", d)\n"
   ]
  },
  {
   "cell_type": "code",
   "execution_count": 4,
   "metadata": {},
   "outputs": [
    {
     "name": "stdout",
     "output_type": "stream",
     "text": [
      "10\n",
      "15\n"
     ]
    }
   ],
   "source": [
    "\n",
    "a=10 #contoh operator penugasan untuk mengisi nilai\n",
    "print (a)\n",
    " \n",
    "a +=5 #jumlah nilai a dengan operator penugasan untuk menjumlahkan\n",
    "\n",
    "#setelah nilai a ditambah 5, tampilkan isinya\n",
    "print (a)"
   ]
  },
  {
   "cell_type": "code",
   "execution_count": 6,
   "metadata": {},
   "outputs": [
    {
     "name": "stdout",
     "output_type": "stream",
     "text": [
      "apakah a sama dengan b: False\n",
      "apakah a lebih besar dari b: True\n"
     ]
    }
   ],
   "source": [
    "#operator logika #operator pembanding\n",
    "\n",
    "a=10\n",
    "b=5\n",
    "\n",
    "#apakah a sama dengan b?\n",
    "c= a== b\n",
    "print (\"apakah a sama dengan b:\", c)\n",
    " \n",
    "#apakah a lebih besar dari b?\n",
    "d= a > b\n",
    "print (\"apakah a lebih besar dari b:\", d)"
   ]
  },
  {
   "cell_type": "code",
   "execution_count": 10,
   "metadata": {},
   "outputs": [
    {
     "name": "stdout",
     "output_type": "stream",
     "text": [
      "False\n"
     ]
    }
   ],
   "source": [
    "a = True\n",
    "b = False\n",
    "\n",
    "#logika AND\n",
    "c = a and b\n",
    "print (c)\n"
   ]
  },
  {
   "cell_type": "code",
   "execution_count": 12,
   "metadata": {},
   "outputs": [
    {
     "name": "stdout",
     "output_type": "stream",
     "text": [
      "4\n"
     ]
    }
   ],
   "source": [
    "#OPERASI BITWISE\n",
    "a = 4\n",
    "b = 5\n",
    "c = a & b\n",
    "print (c)\n",
    "\n",
    "#a = 00111100\n",
    "#b = 00001101\n",
    "#a & b = 00001100"
   ]
  },
  {
   "cell_type": "code",
   "execution_count": 13,
   "metadata": {},
   "outputs": [
    {
     "name": "stdout",
     "output_type": "stream",
     "text": [
      "dewasa\n"
     ]
    }
   ],
   "source": [
    "#operasi ternary\n",
    "\n",
    "umur = 17\n",
    "aku = \"bocah\" if umur < 10 else \"dewasa\"\n",
    "print (aku)"
   ]
  },
  {
   "cell_type": "code",
   "execution_count": 18,
   "metadata": {},
   "outputs": [
    {
     "name": "stdout",
     "output_type": "stream",
     "text": [
      "Nama kamu siapa?Nisa Ashfiyani\n",
      "Nama kamu adalah Nisa Ashfiyani\n"
     ]
    }
   ],
   "source": [
    "#mengambil input\n",
    "name = input (\"Nama kamu siapa?\") \n",
    "print (\"Nama kamu adalah\", name)"
   ]
  },
  {
   "cell_type": "code",
   "execution_count": null,
   "metadata": {},
   "outputs": [],
   "source": [
    "#mengambil data float/integer dari keyboard untuk variabel a dan t\n",
    "\n",
    "a = int (input (\"masukan nilai alas\")) \n",
    "b = int (input (\"masukan nilai tingi\")) \n",
    "\n",
    "L = 0.5*a*t\n",
    "print (\"Luas Segitiga\", L)\n"
   ]
  },
  {
   "cell_type": "code",
   "execution_count": null,
   "metadata": {},
   "outputs": [],
   "source": []
  }
 ],
 "metadata": {
  "kernelspec": {
   "display_name": "Python 3",
   "language": "python",
   "name": "python3"
  },
  "language_info": {
   "codemirror_mode": {
    "name": "ipython",
    "version": 3
   },
   "file_extension": ".py",
   "mimetype": "text/x-python",
   "name": "python",
   "nbconvert_exporter": "python",
   "pygments_lexer": "ipython3",
   "version": "3.8.3"
  }
 },
 "nbformat": 4,
 "nbformat_minor": 4
}

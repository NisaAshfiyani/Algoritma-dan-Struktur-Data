{
 "cells": [
  {
   "cell_type": "code",
   "execution_count": 1,
   "metadata": {},
   "outputs": [
    {
     "name": "stdout",
     "output_type": "stream",
     "text": [
      "saya suka algoritma dan struktur data\n"
     ]
    }
   ],
   "source": [
    "print (\"saya suka algoritma dan struktur data\" )"
   ]
  },
  {
   "cell_type": "code",
   "execution_count": 2,
   "metadata": {},
   "outputs": [
    {
     "name": "stdout",
     "output_type": "stream",
     "text": [
      "saya suka algoritma dan struktur data\n",
      "saya suka algoritma dan struktur data\n",
      "saya suka algoritma dan struktur data\n",
      "saya suka algoritma dan struktur data\n",
      "saya suka algoritma dan struktur data\n"
     ]
    }
   ],
   "source": []
  },
  {
   "cell_type": "code",
   "execution_count": 4,
   "metadata": {},
   "outputs": [
    {
     "name": "stdout",
     "output_type": "stream",
     "text": [
      "10\n"
     ]
    }
   ],
   "source": [
    "#menjumlahkan bilangan \n",
    "a=5\n",
    "b=5\n",
    "c=a+b\n",
    "print (c)"
   ]
  },
  {
   "cell_type": "code",
   "execution_count": 6,
   "metadata": {},
   "outputs": [
    {
     "name": "stdout",
     "output_type": "stream",
     "text": [
      "Saya Nisa, IPK saya saat ini adalah 3.75\n",
      "umur saya 25 tahun\n"
     ]
    }
   ],
   "source": [
    "ipk=3.75\n",
    "umur=25\n",
    "print (\"Saya Nisa, IPK saya saat ini adalah\", ipk)\n",
    "print (\"umur saya\",umur, \"tahun\")"
   ]
  },
  {
   "cell_type": "code",
   "execution_count": null,
   "metadata": {},
   "outputs": [],
   "source": []
  }
 ],
 "metadata": {
  "kernelspec": {
   "display_name": "Python 3",
   "language": "python",
   "name": "python3"
  },
  "language_info": {
   "codemirror_mode": {
    "name": "ipython",
    "version": 3
   },
   "file_extension": ".py",
   "mimetype": "text/x-python",
   "name": "python",
   "nbconvert_exporter": "python",
   "pygments_lexer": "ipython3",
   "version": "3.8.3"
  }
 },
 "nbformat": 4,
 "nbformat_minor": 4
}

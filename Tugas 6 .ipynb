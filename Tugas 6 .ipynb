{
 "cells": [
  {
   "cell_type": "code",
   "execution_count": 6,
   "metadata": {},
   "outputs": [
    {
     "name": "stdout",
     "output_type": "stream",
     "text": [
      "penentuan program nilai remidi: 65\n",
      "kamu harus ikut remidi\n"
     ]
    }
   ],
   "source": [
    "nilai = int(input(\"penentuan program nilai remidi: \"))\n",
    "            \n",
    "if nilai < 70:\n",
    "    print(\"kamu harus ikut remidi\")"
   ]
  },
  {
   "cell_type": "code",
   "execution_count": 7,
   "metadata": {},
   "outputs": [
    {
     "name": "stdout",
     "output_type": "stream",
     "text": [
      "penentuan program nilai remidi: 100\n"
     ]
    }
   ],
   "source": [
    "nilai = int(input(\"penentuan program nilai remidi: \"))\n",
    "            \n",
    "if nilai < 70:\n",
    "    print(\"kamu harus ikut remidi\")"
   ]
  },
  {
   "cell_type": "code",
   "execution_count": 25,
   "metadata": {},
   "outputs": [
    {
     "name": "stdout",
     "output_type": "stream",
     "text": [
      "masukan r= 30\n",
      "Luas 2826.0\n",
      "lingkaran ini kecil\n"
     ]
    }
   ],
   "source": [
    "r = int(input(\"masukan r= \"))\n",
    "L = 3.14*r*r\n",
    "print (\"Luas\", L)\n",
    "\n",
    "if L >= 3.14:\n",
    "    print (\"lingkaran ini kecil\""
   ]
  },
  {
   "cell_type": "code",
   "execution_count": 6,
   "metadata": {},
   "outputs": [
    {
     "name": "stdout",
     "output_type": "stream",
     "text": [
      "inputkan nomor: 20\n",
      "program tidak tersedia\n"
     ]
    }
   ],
   "source": [
    "def volume_balok():\n",
    "    p = int(input(\"p : \"))\n",
    "    l = int(input(\"l : \"))\n",
    "    t = int(input(\"t : \"))\n",
    "    V_b = p*l*t\n",
    "    return V_b\n",
    "\n",
    "def volume_kubus(s):\n",
    "    s = int(input(\"s: \"))\n",
    "    V_k = s*s*s\n",
    "    return V_k\n",
    "\n",
    "nomor = int(input(\"inputkan nomor: \"))\n",
    "if nomor == 1:\n",
    "    print(\"volume_balok\", volume_balok)\n",
    "elif nomor == 2:\n",
    "    print(\"volume_kubus\", volume_kubus)\n",
    "else :\n",
    "    print (\"program tidak tersedia\")\n"
   ]
  }
 ],
 "metadata": {
  "kernelspec": {
   "display_name": "Python 3",
   "language": "python",
   "name": "python3"
  },
  "language_info": {
   "codemirror_mode": {
    "name": "ipython",
    "version": 3
   },
   "file_extension": ".py",
   "mimetype": "text/x-python",
   "name": "python",
   "nbconvert_exporter": "python",
   "pygments_lexer": "ipython3",
   "version": "3.8.3"
  }
 },
 "nbformat": 4,
 "nbformat_minor": 4
}

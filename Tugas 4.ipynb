{
 "cells": [
  {
   "cell_type": "code",
   "execution_count": 1,
   "metadata": {},
   "outputs": [
    {
     "name": "stdout",
     "output_type": "stream",
     "text": [
      "Hasil 10 + 5 = 15\n",
      "Hasil 10 - 5 = 5\n"
     ]
    }
   ],
   "source": [
    "a = 10\n",
    "b = 5\n",
    "# menggunakan operator penjumlahan\n",
    "c = a + b\n",
    "print (\"Hasil\", a, \"+\", b, \"=\", c)\n",
    "\n",
    "# operator pengurangan\n",
    "d= a - b\n",
    "print (\"Hasil\", a, \"-\", b, \"=\", d)"
   ]
  },
  {
   "cell_type": "code",
   "execution_count": 2,
   "metadata": {},
   "outputs": [
    {
     "name": "stdout",
     "output_type": "stream",
     "text": [
      "20\n",
      "27\n"
     ]
    }
   ],
   "source": [
    "a= 20 # operator penugasan untuk mengis nilai\n",
    "print (a)\n",
    "\n",
    "a += 7 \n",
    "print (a)"
   ]
  },
  {
   "cell_type": "code",
   "execution_count": 3,
   "metadata": {},
   "outputs": [
    {
     "name": "stdout",
     "output_type": "stream",
     "text": [
      "apakah a sama dengan b: False\n",
      "apakah a lebih kecil dari b: False\n"
     ]
    }
   ],
   "source": [
    "a = 50\n",
    "b = 30\n",
    "\n",
    "c = a == b\n",
    "print(\"apakah a sama dengan b:\", c)\n",
    "\n",
    "d = a < b\n",
    "print (\"apakah a lebih kecil dari b:\", d) \n",
    "    "
   ]
  },
  {
   "cell_type": "code",
   "execution_count": 4,
   "metadata": {},
   "outputs": [
    {
     "name": "stdout",
     "output_type": "stream",
     "text": [
      "False\n"
     ]
    }
   ],
   "source": [
    "budi = True\n",
    "andi = False\n",
    "\n",
    "Mereka = budi and andi\n",
    "print (Mereka)"
   ]
  },
  {
   "cell_type": "code",
   "execution_count": 6,
   "metadata": {},
   "outputs": [
    {
     "name": "stdout",
     "output_type": "stream",
     "text": [
      "Nama bayi : Amrina\n",
      "Berat badan bayi (Kg): 5\n",
      "Berat badannya :  20 (ons)\n",
      "Hai Amrina berat badanmu  20 Kg atau 20 ons ,1 bulan kemudian 50\n"
     ]
    }
   ],
   "source": [
    "#input \n",
    "name = input (\"Nama bayi : \")\n",
    "berat_badan = int (input (\"Berat badan bayi (Kg): \"))\n",
    "\n",
    "#proses\n",
    "ons = berat_badan = 20\n",
    "berat_1bulan = ons + 30\n",
    "\n",
    "#output\n",
    "print (\"Berat badannya : \", ons, \"(ons)\")\n",
    "print (\"Hai\", name, \"berat badanmu \", berat_badan, \"Kg\", \"atau\", ons, \"ons\", \",\"\"1 bulan kemudian\", berat_1bulan)"
   ]
  },
  {
   "cell_type": "code",
   "execution_count": null,
   "metadata": {},
   "outputs": [],
   "source": []
  }
 ],
 "metadata": {
  "kernelspec": {
   "display_name": "Python 3",
   "language": "python",
   "name": "python3"
  },
  "language_info": {
   "codemirror_mode": {
    "name": "ipython",
    "version": 3
   },
   "file_extension": ".py",
   "mimetype": "text/x-python",
   "name": "python",
   "nbconvert_exporter": "python",
   "pygments_lexer": "ipython3",
   "version": "3.8.3"
  }
 },
 "nbformat": 4,
 "nbformat_minor": 4
}
